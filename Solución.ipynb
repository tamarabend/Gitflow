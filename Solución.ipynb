{
 "cells": [
  {
   "cell_type": "code",
   "execution_count": null,
   "id": "a2b1f988",
   "metadata": {},
   "outputs": [
    {
     "name": "stdout",
     "output_type": "stream",
     "text": [
      "start\n",
      "hi\n"
     ]
    }
   ],
   "source": [
    "import json\n",
    "import re\n",
    "import operator\n",
    "\n",
    "print('start')\n",
    "\n",
    "def retweets(data):\n",
    "    top10 = sorted(data, reverse=True, key=lambda k: k['retweetCount'])\n",
    "    return(top10[0:10])\n",
    "\n",
    "def users(data):\n",
    "    usersCount = {}\n",
    "    for tweet in data:\n",
    "        if tweet['user']['username'] not in usersCount.keys():\n",
    "            usersCount[tweet['user']['username']] = 1\n",
    "        else:\n",
    "            usersCount[tweet['user']['username']] += 1\n",
    "    top10 = sorted(usersCount.items(), key=operator.itemgetter(1), reverse=True)\n",
    "    return(top10[0:10])\n",
    "\n",
    "def dates(data):\n",
    "    dateCount = {}\n",
    "    for tweet in data:\n",
    "        if tweet['date'][0:10] not in dateCount:\n",
    "            dateCount[tweet['date'][0:10]] = 1\n",
    "        else:\n",
    "            dateCount[tweet['date'][0:10]] += 1\n",
    "    top10 = sorted(dateCount.items(), key=operator.itemgetter(1), reverse=True)\n",
    "    return(top10[0:10])\n",
    "\n",
    "def main():\n",
    "    file = open(\"farmers-protest-tweets-2021-03-5.json\")\n",
    "    data = []\n",
    "    for line in file:\n",
    "        d = json.loads(line)\n",
    "        data.append(d)\n",
    "    \n",
    "    print('---------------------')\n",
    "    print('Top 10 most retweeted')\n",
    "    retweet = retweets(data)\n",
    "    for i in range(10):\n",
    "        print(f'#{i+1}: \\n{retweet[i]}')\n",
    "    \n",
    "    print('---------------------')\n",
    "    print('Top 10 users')\n",
    "    user = users(data)\n",
    "    for i in range(10):\n",
    "        print(f'#{i+1}: \\n{user[i]}')\n",
    "    \n",
    "    print('---------------------')\n",
    "    print('Top 10 dates')\n",
    "    date = dates(data)\n",
    "    for i in range(10):\n",
    "        print(f'#{i+1}: \\n{date[i]}')\n",
    "\n",
    "print('hi')\n",
    "main()"
   ]
  },
  {
   "cell_type": "code",
   "execution_count": null,
   "id": "d1039660",
   "metadata": {},
   "outputs": [],
   "source": []
  },
  {
   "cell_type": "code",
   "execution_count": null,
   "id": "f98c71cc",
   "metadata": {},
   "outputs": [],
   "source": []
  }
 ],
 "metadata": {
  "kernelspec": {
   "display_name": "Python 3 (ipykernel)",
   "language": "python",
   "name": "python3"
  },
  "language_info": {
   "codemirror_mode": {
    "name": "ipython",
    "version": 3
   },
   "file_extension": ".py",
   "mimetype": "text/x-python",
   "name": "python",
   "nbconvert_exporter": "python",
   "pygments_lexer": "ipython3",
   "version": "3.9.7"
  }
 },
 "nbformat": 4,
 "nbformat_minor": 5
}
